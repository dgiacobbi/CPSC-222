{
 "cells": [
  {
   "cell_type": "markdown",
   "metadata": {},
   "source": [
    "# EDA Project: My Apple Fitness Health\n",
    "\n",
    "For my project, I wanted to take a deeper look into my fitness habits in college. In order to maintain and improve my health over the next couple years, I want to find trends that could potentially provide new insight about what I could do better next semseter when I workout. Some questions I may ask are:\n",
    "\n",
    "* Does weather influence how frequently I workout?\n",
    "* Does cardio or weight lifting have a greater effect on my calorie count?\n",
    "* Do higher intensity workouts lower my consistency in going to the gym?\n",
    "\n",
    "In order to gather some of these answers, it is important to start with a quick analysis of data gathered on my Apple Watch. This dataset is simply an example of the kind of data I will use in the project, so it only has my fitness data tracked from 12/26/2021 - 02/08/2022. For the main project, I will use my data from the whole Spring semester. \n",
    "\n",
    "## Load the Data\n",
    "\n",
    "Analysis must start with loading the data, so that I can work with it in a Python-based environment. The first step is to load `\"apple_health_fitness.csv\"` into a `pd.DataFrame`. I will use the date as the index for this example."
   ]
  },
  {
   "cell_type": "code",
   "execution_count": 52,
   "metadata": {},
   "outputs": [
    {
     "name": "stdout",
     "output_type": "stream",
     "text": [
      "            Active Calories  Exercise  Flights  Heart Rate  Max Heart Rate  \\\n",
      "Date                                                                         \n",
      "2021-12-26           795.75        58        5        52.0             179   \n",
      "2021-12-27           122.38         0        0        64.0             100   \n",
      "2021-12-28           440.65        16        0        55.0             150   \n",
      "2021-12-29           332.06        10        1        56.0             120   \n",
      "2021-12-30           702.97        21        2        54.0             167   \n",
      "\n",
      "            Average Heart Rate  Resting Heart Rate  Step Count  Distance  \n",
      "Date                                                                      \n",
      "2021-12-26              101.24                60.0       15617      7.63  \n",
      "2021-12-27               84.99                66.5        2999      1.32  \n",
      "2021-12-28               81.39                65.0        7685      4.03  \n",
      "2021-12-29               74.21                60.0        4607      2.27  \n",
      "2021-12-30               98.27                73.0       11340      5.38  \n"
     ]
    }
   ],
   "source": [
    "import pandas as pd\n",
    "\n",
    "fitness_df = pd.read_csv(\"apple_health_fitness.csv\", index_col=\"Date\")\n",
    "print(fitness_df.head(5))"
   ]
  },
  {
   "cell_type": "markdown",
   "metadata": {},
   "source": [
    "### Data Attributes\n",
    "\n",
    "Each day is an instance for this dataset. Every day, my Apple Watch tracked the following data attributes and logged them:\n",
    "\n",
    "1. **Active Calories**: calories burned from exercise (float)\n",
    "2. **Exercise**: minutes of exercise each day (int)\n",
    "3. **Flights**: flights of stairs climbed (int)\n",
    "4. **Heart Rate**: unknown heart rate calculation (will be deleted in cleaning)\n",
    "5. **Max Heart Rate**: maximum heart rate of the day in bpm (float)\n",
    "6. **Average Heart Rate**: average heart rate throughout day in bpm (float)\n",
    "7. **Resting Heart Rate**: resting heart rate in bpm (float)\n",
    "8. **Step Count**: steps during day (int)\n",
    "9. **Distance**: total distance covered in miles (float)"
   ]
  },
  {
   "cell_type": "markdown",
   "metadata": {},
   "source": [
    "## Clean the Data\n",
    "\n",
    "Given that the dataset is so small, there is not much that needs to be cleaned. However, the main project will come with more `np.NaN` values that will need to be cleaned. In this example case, the only cleaning that needs to be done is the deletion of the Heart Rate column from the csv file. It is unclear what type of heart rate it has logged, and in this case, it will not be necessary for any data visualization.\n",
    "\n",
    "For the main project, there is one main issue that could arise. There have been days here and there that I forgot to wear my watch during the day or during a workout. Some questions that will need answering are:\n",
    "\n",
    "* How should I fill null values in my dataset?\n",
    "* Is frequency of forgetting to wear my watch common enough where I will need to interpolate?\n",
    "* How do I take into account times when I am not in my typical schedule such as break?"
   ]
  },
  {
   "cell_type": "code",
   "execution_count": 53,
   "metadata": {},
   "outputs": [
    {
     "name": "stdout",
     "output_type": "stream",
     "text": [
      "            Active Calories  Exercise  Flights  Max Heart Rate  \\\n",
      "Date                                                             \n",
      "2021-12-26           795.75        58        5             179   \n",
      "2021-12-27           122.38         0        0             100   \n",
      "2021-12-28           440.65        16        0             150   \n",
      "2021-12-29           332.06        10        1             120   \n",
      "2021-12-30           702.97        21        2             167   \n",
      "\n",
      "            Average Heart Rate  Resting Heart Rate  Step Count  Distance  \n",
      "Date                                                                      \n",
      "2021-12-26              101.24                60.0       15617      7.63  \n",
      "2021-12-27               84.99                66.5        2999      1.32  \n",
      "2021-12-28               81.39                65.0        7685      4.03  \n",
      "2021-12-29               74.21                60.0        4607      2.27  \n",
      "2021-12-30               98.27                73.0       11340      5.38  \n"
     ]
    }
   ],
   "source": [
    "fitness_df.pop(\"Heart Rate\")\n",
    "\n",
    "print(fitness_df.head(5))"
   ]
  },
  {
   "cell_type": "markdown",
   "metadata": {},
   "source": [
    "## Visualize the Data\n",
    "\n",
    "To demonstrate possible trends that will be used in the project. There are a couple of `matplotlib.pyplot` graphs that would be helpful depiction. I think one of my favorites for this type of data is a stem plot. This graph will be useful in seeing how my exercise time fluctuates throughout the beginning months of the spring semester. "
   ]
  },
  {
   "cell_type": "code",
   "execution_count": 55,
   "metadata": {},
   "outputs": [
    {
     "data": {
      "image/png": "[encoded data removed]",
      "text/plain": [
       "<Figure size 432x288 with 1 Axes>"
      ]
     },
     "metadata": {
      "needs_background": "light"
     },
     "output_type": "display_data"
    }
   ],
   "source": [
    "import matplotlib.pyplot as plt\n",
    "\n",
    "date_ser = fitness_df.index\n",
    "exercise_ser = fitness_df[\"Exercise\"]\n",
    "\n",
    "week_count = [0, 6, 13, 20, 27, 34, 41]\n",
    "week_x_list = []\n",
    "\n",
    "for i in range(len(date_ser)):\n",
    "    \n",
    "    if i in week_count:\n",
    "        week_x_list.append(date_ser[i])\n",
    "\n",
    "plt.figure()\n",
    "plt.stem(date_ser, exercise_ser, linefmt=\"C4-\", markerfmt=\"C4.\", basefmt=\"C7-\")\n",
    "plt.ylabel(\"Exercise (min):\")\n",
    "plt.xlabel(\"Date by Week\")\n",
    "plt.xticks(week_count, week_x_list, rotation=15, ha=\"right\")\n",
    "plt.title(\"Exercise Time ($\\mu$=\" + str(round(exercise_ser.mean(), 2)) + \")\")\n",
    "plt.tight_layout()\n",
    "plt.show()"
   ]
  },
  {
   "cell_type": "markdown",
   "metadata": {},
   "source": [
    "From this graph it is clear there is a drastic difference between the amount I work out over Christmas break versus my time at school. Another interesting note is that my school exercise has the same rising and falling shape each week. This shows how the bulk of my exercise happens during the week while I tend to rest on the weekends."
   ]
  }
 ],
 "metadata": {
  "interpreter": {
   "hash": "10a6e54dcf7cd4a6e4c60a02b2c0aedf793edece3f95e71af56e4832a6f99a52"
  },
  "kernelspec": {
   "display_name": "Python 3.9.7 ('base')",
   "language": "python",
   "name": "python3"
  },
  "language_info": {
   "codemirror_mode": {
    "name": "ipython",
    "version": 3
   },
   "file_extension": ".py",
   "mimetype": "text/x-python",
   "name": "python",
   "nbconvert_exporter": "python",
   "pygments_lexer": "ipython3",
   "version": "3.9.7"
  },
  "orig_nbformat": 4
 },
 "nbformat": 4,
 "nbformat_minor": 2
}
