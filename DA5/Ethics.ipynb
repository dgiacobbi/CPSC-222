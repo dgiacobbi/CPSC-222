{
 "cells": [
  {
   "cell_type": "markdown",
   "metadata": {},
   "source": [
    "David Giacobbi\n",
    "\n",
    "**The Social Dilemma Analysis**\n",
    "\n",
    "The Social Dilemma must be one of my favorite technological documentaries on Netflix. I think that it forces us to question just how ethical social media is as an industry. Additionally, even though it can be difficult to face the reality of a part of our life that can feel quite central, documentaries like this encourage me to step back and reevaluate how I am spending my time on my phone.\n",
    "\n",
    "The first issue about social media that is addressed is the fact that we, as consumers, are the product on social media apps. When I first heard this statement, I felt like I was being manipulated in a way. Even though the profitable structure for social media makes sense, I could not help but be surprised that I was being treated like an object to be sold. However, I cannot be mad at this fact as I agree to the app’s terms and conditions when I sign up to use it. Likewise, it should be expected that the app uses us as product since it is free. I can see that this idea for profit will have some potentially dangerous long-term effects. As social media continues to grow and influence the public, there is a greater opportunity for a gain in both profit and power. I think that businesses will start to increase their influence on us through these apps, altering the very way we think if we are not fully aware of their presence. It may seem like a stretch, but this time is rapidly closing in where media interactions are growing increasing influential and controversial.\n",
    "\n",
    "From a legal standpoint, the learning models that our social media uses on us to predict what content we want to view is acceptable the minute we accept the terms and conditions. However, I feel that the intent behind this model is ultimately an unethical use of technology. The companies design and improve these models for their own monetary gain. They do not have the concerns of social media users first. This is a problem because these companies will do whatever is necessary to keep us engaged and advertised on their app. There is no doubt that the learning model can be helpful to everyday life; moreover, it is helpful when you do not know or forgot what you are looking for on an app and it reminds you with its suggestions. However, the intent of the companies behind this voodoo doll-like model introduces very valid ethical concerns that should be addressed.\n",
    "\n",
    "Persuasive technology is quite a dangerous yet powerful tool. Like most aspects of social media business, these technological ideas depend on who is handling them. If you trust in the company that provides you with your social media, then these technologies can be a quite positive aspect to life today. However, I do not think anyone can fully trust any of these companies, especially after learning their intentions with us as consumers. Technology such as this persuasion is very new, yet people still struggle to determine which thoughts are our own and which are from the computer. What will happen after 20 or 30 years of development with this technology? As these models continue to develop, human will become more and more reliant on their phones for everything. From what to do next to satisfaction, these media platforms will cement themselves into everyone’s life. All it takes is a group of people with evil intentions to completely manipulate and control the thoughts of the public. I find that incredibly terrifying as it serves as a wakeup call to myself to be very aware about my time on social media.\n",
    "\n",
    "Another part of the documentary that really stuck with me was the discussion of dopamine and social media content. I find myself spending too much time on my phone at times, and it can mostly be attributed to this dopamine release. I think it is concerning to know that these social media companies are intentionally manipulating this release to keep you on their app the longest. Just as you are about to be done with their app through learning models, they know to send another piece of content that will release dopamine in my brain. It worries me to think about how this could continue to increase as the model refines and develops in the future. More importantly, it forces me to be more alert about my time online.\n"
   ]
  }
 ],
 "metadata": {
  "language_info": {
   "name": "python"
  },
  "orig_nbformat": 4
 },
 "nbformat": 4,
 "nbformat_minor": 2
}
