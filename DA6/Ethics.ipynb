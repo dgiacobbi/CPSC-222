{
 "cells": [
  {
   "cell_type": "markdown",
   "metadata": {},
   "source": [
    "David Giacobbi\n",
    "\n",
    "DA6: The Morality of A/B Testing\n",
    "\n",
    "Facebook’s A/B testing issue with their News Feed, though not legally incorrect, is a violation of moral and ethical code as a business. I think that the opt out for such an experiment is crucial in protecting the health and safety of its users. Typically, to turn off data tracking on an app like Facebook, the user must jump through many hoops and turn off multiple settings to completely avoid impact from Facebook A/B Testing. Just as we are required to sign waivers that are often quite clear about physical dangers when doing something like bungee jumping, it should be the same when considering the mental health effects of an event or test. Facebook embeds these warnings in a quite lengthy terms and conditions contract, revealing the underlying manipulation to hide potential side effects that their tests could have on a user. Such actions are an abuse of power and show little care for their users’ own health over their success.\n",
    "\n",
    "I think that A/B testing can be incredibly beneficial and is okay for businesses to use to improve their own applications. However, there needs to be a coherent and clear explanation for what they are trying to test and provide the option for users to opt out if they do not like the potential effects of participating. The users cannot be left in the dark, and we have seen the backlash governments get when they are revealed to be spying on the public in various ways that were unknown before. Businesses should be held with the same accountability. Any time that there is a potential risk to the health of a user, Facebook must mention it clearly and offer an opt out before beginning testing for anyone with potential health risks.\n",
    "\n",
    "As a college student, I think that the main software example that I need to use is my Outlook email. Whether I trust Microsoft with my personal email data or not, I must use this software to stay connected within the Gonzaga framework. Without my Zagmail, I have no access to any of the required programs that I need to complete my class work or communicate with my professors and fellow students. Given that this Outlook program has become a part of my daily life, I am more reluctant to opt out of one of Microsoft’s studies if it means that I will have limited access to my email functions. This is concerning in a way because, worst case scenario, I almost feel like I could be “blackmailed” in a sense or forcefully manipulated to participate in whatever Microsoft wants so that I can keep using their software.\n",
    "\n",
    "I think that articles like these act as a continuous wake up call for myself to beware of the ever-growing power of these big software companies. In the technological era, nothing is holding them back from growing while it is being controlled and run by fallible and potentially corrupt leaders. Moreover, the change to Meta is very interesting. Part of me thinks that they changed their company name because of the amount of dirt that has been uncovered while working under the name Facebook. The rebrand has become a reminder that Facebook continues to grow; moreover, they are trying to cover up their past full of scandal and violations of privacy."
   ]
  }
 ],
 "metadata": {
  "language_info": {
   "name": "python"
  },
  "orig_nbformat": 4
 },
 "nbformat": 4,
 "nbformat_minor": 2
}
