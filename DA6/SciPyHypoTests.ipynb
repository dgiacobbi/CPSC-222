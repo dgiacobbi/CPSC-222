{
 "cells": [
  {
   "cell_type": "markdown",
   "metadata": {},
   "source": [
    "David Giacobbi  \n",
    "Class: CPSC 222, Spring 2022  \n",
    "Data Assignment #6  \n",
    "4/12/22 \n",
    "\n",
    "# SciPy Hypothesis Testing Exercises\n",
    "\n",
    "The following hypothesis testing will utilize the Python `scipy` library to formulate and make decisions about various topics around Gonzaga today. The five tests will work with datasets such as:\n",
    "\n",
    "1. DA5 Patient Cleaned Data\n",
    "1. Ed Activity for CPSC 222 and CPSC 322\n",
    "1. IQ1 Quiz Durations\n",
    "1. Circuit Trials for Physical Therapy\n",
    "1. Daily Visitors on Gonzaga's Website (2018-2022)\n",
    "\n",
    "## DA5 Gender Stroke Age Hypothesis Test\n",
    "\n",
    "The first hypothesis test will ask the question: Is the mean age of women who had a stroke greater than the mean age of men who had a stroke? This test will have a level of significance of 0.01. The male and female datasets will need to be uploaded from the csv file for analysis:"
   ]
  },
  {
   "cell_type": "code",
   "execution_count": 2,
   "metadata": {},
   "outputs": [
    {
     "name": "stdout",
     "output_type": "stream",
     "text": [
      "Male Stroke Dataset n: 607\n",
      "Female Stroke Dataset n: 562\n"
     ]
    }
   ],
   "source": [
    "import pandas as pd\n",
    "\n",
    "patient_df = pd.read_csv(\"DA5_patient_data_cleaned.csv\")\n",
    "male_stroke_age = []\n",
    "female_stroke_age = []\n",
    "\n",
    "for i in range(len(patient_df)):\n",
    "    \n",
    "    if patient_df.loc[i][\"RIC\"] == \"Stroke\":\n",
    "\n",
    "        if patient_df.loc[i][\"Gender\"] == \"M\":\n",
    "            male_stroke_age.append(patient_df.loc[i][\"Age\"])\n",
    "\n",
    "        if patient_df.loc[i][\"Gender\"] == \"F\":\n",
    "            female_stroke_age.append(patient_df.loc[i][\"Age\"])\n",
    "\n",
    "print(\"Male Stroke Dataset n:\", len(male_stroke_age))\n",
    "print(\"Female Stroke Dataset n:\", len(female_stroke_age))\n",
    "\n",
    "male_stroke_age_ser = pd.Series(male_stroke_age)\n",
    "female_stroke_age_ser = pd.Series(female_stroke_age)"
   ]
  },
  {
   "cell_type": "markdown",
   "metadata": {},
   "source": [
    "### 1. Identify the Null and Alternative Hypothesis\n",
    "\n",
    "$H_o$ = $\\mu_{female}$ <= $\\mu_{male}$  \n",
    "$H_1$ = $\\mu_{female}$ > $\\mu_{male}$  \n",
    "$\\mu$ = average age of stroke patient group\n",
    "\n",
    "### 2. Select Level of Significance\n",
    "\n",
    "$\\alpha$ = 0.01\n",
    "\n",
    "### 3. Select Appropriate Test Statistic\n",
    "\n",
    "T-Statistic for Two-Sample Independent Test of Means:\n",
    "$$t = \\frac{\\overline{X_1} - \\overline{X_2}}{\\sqrt{s^2_p(\\frac{1}{n_1} + \\frac{1}{n_2})}}$$\n",
    "\n",
    "Pooled Variance:\n",
    "$$s^2_p = \\frac{(n_1 - 1)s_1^2 + (n_2 - 1)s_2^2}{n_1 + n_2 - 2}$$\n",
    "\n",
    "Degrees of Freedom:\n",
    "$$df = n_1 + n_2 - 1$$\n",
    "\n",
    "T-Critical @ $\\alpha = 0.01$ and $df = 1167$\n",
    "$$t_{critical} = 2.3295$$"
   ]
  },
  {
   "cell_type": "code",
   "execution_count": 3,
   "metadata": {},
   "outputs": [
    {
     "name": "stdout",
     "output_type": "stream",
     "text": [
      "t: 3.0212409378467506 pval: 0.0012861144659843757\n"
     ]
    }
   ],
   "source": [
    "from scipy import stats\n",
    "\n",
    "t, pval = stats.ttest_ind(female_stroke_age_ser, male_stroke_age_ser)\n",
    "pval /= 2\n",
    "print(\"t:\", t, \"pval:\", pval)"
   ]
  },
  {
   "cell_type": "markdown",
   "metadata": {},
   "source": [
    "### 4. Formulate a Decision Rule\n",
    "\n",
    "Using the t-distribution table with the level of significance (0.01) and the degrees of freedom (1167), the t-critical value for this hypothesis test is 2.492. The decision rule can be checked using the computed t-value or p-value. The following conditions can be drawn up using the initial hypotheses:\n",
    "\n",
    "1. If t-computed > 2.3295, reject $H_o$.\n",
    "1. If t-computed <= 2.3295, do not reject $H_o$.\n",
    "\n",
    "Python logic can demonstrate the above tests:"
   ]
  },
  {
   "cell_type": "code",
   "execution_count": 4,
   "metadata": {},
   "outputs": [
    {
     "name": "stdout",
     "output_type": "stream",
     "text": [
      "Reject Null Hypothesis\n"
     ]
    }
   ],
   "source": [
    "if t > 2.3295:\n",
    "    print(\"Reject Null Hypothesis\")\n",
    "else:\n",
    "    print(\"Do Not Reject Null Hypothesis\")"
   ]
  },
  {
   "cell_type": "markdown",
   "metadata": {},
   "source": [
    "### 5. Make a Decision\n",
    "\n",
    "At 0.01 level of significance, the hypothesis that female patients have a lower or equal average mean than male patients can be rejected. This implies that there is evidence that can support the conclusion that the average male stroke age is lower than the average female stroke age in this sample set."
   ]
  },
  {
   "cell_type": "markdown",
   "metadata": {},
   "source": [
    "## Ed Discussion: CPSC 222 v. CPSC 322\n",
    "\n",
    "The next hypothesis test will utilize JSON files to pose the question: Is there a difference in the number of days CPSC 222 students are active on Ed discussion compared to CPSC 322 students? A level of significance of 0.001 will be used for this test along with a two-tailed, two independent sample test of means. \n",
    "\n",
    "The following code will parse the JSON file and create the two datasets of each class's \"Days Active\" on Ed:"
   ]
  },
  {
   "cell_type": "code",
   "execution_count": 5,
   "metadata": {},
   "outputs": [
    {
     "name": "stdout",
     "output_type": "stream",
     "text": [
      "CPSC 222 Activity n: 32\n",
      "CPSC 322 Activity n: 62\n"
     ]
    }
   ],
   "source": [
    "import pandas as pd\n",
    "\n",
    "ed_222_df = pd.read_json(\"ed_222.json\")\n",
    "activity_222_ser = pd.Series(ed_222_df[\"Days Active\"])\n",
    "\n",
    "ed_322_df = pd.read_json(\"ed_322.json\")\n",
    "activity_322_ser = pd.Series(ed_322_df[\"Days Active\"])\n",
    "\n",
    "print(\"CPSC 222 Activity n:\", len(activity_222_ser))\n",
    "print(\"CPSC 322 Activity n:\", len(activity_322_ser))\n"
   ]
  },
  {
   "cell_type": "markdown",
   "metadata": {},
   "source": [
    "### 1. Identify the Null and Alternative Hypothesis\n",
    "\n",
    "$H_o$ = $\\mu_{322} = \\mu_{222}$  \n",
    "$H_1$ = $\\mu_{322} \\neq \\mu_{222}$  \n",
    "$\\mu$ = average days active on Ed per student\n",
    "\n",
    "### 2. Select Level of Significance\n",
    "\n",
    "$\\alpha$ = 0.001\n",
    "\n",
    "### 3. Select Appropriate Test Statistic\n",
    "\n",
    "T-Statistic for Two-Sample Independent Test of Means:\n",
    "$$t = \\frac{\\overline{X_1} - \\overline{X_2}}{\\sqrt{s^2_p(\\frac{1}{n_1} + \\frac{1}{n_2})}}$$\n",
    "\n",
    "Pooled Variance:\n",
    "$$s^2_p = \\frac{(n_1 - 1)s_1^2 + (n_2 - 1)s_2^2}{n_1 + n_2 - 2}$$\n",
    "\n",
    "Degrees of Freedom:\n",
    "$$df = n_1 + n_2 - 1$$\n",
    "\n",
    "T-Critical @ $\\alpha = 0.001$ and $df = 92$\n",
    "$$t_{critical} = \\pm 3.3994$$"
   ]
  },
  {
   "cell_type": "code",
   "execution_count": 6,
   "metadata": {},
   "outputs": [
    {
     "name": "stdout",
     "output_type": "stream",
     "text": [
      "t: 5.487771363199516 pval: 1.7842247003494743e-07\n"
     ]
    }
   ],
   "source": [
    "from scipy import stats\n",
    "\n",
    "t, pval = stats.ttest_ind(activity_322_ser, activity_222_ser)\n",
    "pval /= 2\n",
    "print(\"t:\", t, \"pval:\", pval)"
   ]
  },
  {
   "cell_type": "markdown",
   "metadata": {},
   "source": [
    "### 4. Formulate a Decision Rule\n",
    "\n",
    "Using the t-distribution table with the level of significance (0.001) and the degrees of freedom (92), the t-critical value for this hypothesis test is 3.1812. The decision rule can be checked using the computed t-value or p-value. The following conditions can be drawn up using the initial hypotheses:\n",
    "\n",
    "1. If t-computed < -3.3994 or t-computed > 3.3994, reject $H_o$.\n",
    "1. If -3.3994 <= t-computed <= 3.3994, do not reject $H_o$.\n",
    "\n",
    "Python logic can demonstrate the above tests:"
   ]
  },
  {
   "cell_type": "code",
   "execution_count": 7,
   "metadata": {},
   "outputs": [
    {
     "name": "stdout",
     "output_type": "stream",
     "text": [
      "Reject the Null Hypothesis\n"
     ]
    }
   ],
   "source": [
    "if t < -3.3994 or t > 3.3994:\n",
    "    print(\"Reject the Null Hypothesis\")\n",
    "if t >= -3.3994 and t <= 3.3994:\n",
    "    print(\"Do Not Reject the Null Hypothesis\")"
   ]
  },
  {
   "cell_type": "markdown",
   "metadata": {},
   "source": [
    "### 5. Make a Decision\n",
    "\n",
    "At level 0.001 significance, the hypothesis that the average days active on Ed per student is equal must be rejected. This means that there is evidence that supports the conclusion that there is a difference in the number of days 222 students are active on Ed compared to 322 students."
   ]
  },
  {
   "cell_type": "markdown",
   "metadata": {},
   "source": [
    "### IQ1 Quiz Durations: Remote v. Classroom\n",
    "\n",
    "This hypothesis will parse through a csv file to compare the quiz durations of students who completed IQ remotely compared to in the classroom. Using a one-tailed, two independent sample means test, the following question can be answered: Is the mean quiz duration for remote students greater than the mean quiz duration of students who took the quiz in the classroom? A level of significance of 0.005 will be used.\n",
    "\n",
    "The following Python code parses through the `\"IQ1_quiz_durations.csv\"` and organizes them into two Pandas series for testing."
   ]
  },
  {
   "cell_type": "code",
   "execution_count": 8,
   "metadata": {},
   "outputs": [
    {
     "name": "stdout",
     "output_type": "stream",
     "text": [
      "Remote Duration n: 48\n",
      "Classroom Duration n: 46\n"
     ]
    }
   ],
   "source": [
    "import pandas as pd\n",
    "\n",
    "IQ_quiz_duration_df = pd.read_csv(\"IQ1_quiz_durations.csv\")\n",
    "remote_duration_list = []\n",
    "classroom_duration_list = []\n",
    "\n",
    "for i in range(len(IQ_quiz_duration_df)):\n",
    "\n",
    "    if IQ_quiz_duration_df.loc[i][\"In-person\"] == 0:\n",
    "        remote_duration_list.append(IQ_quiz_duration_df.loc[i][\"Hours Start to Finish\"])\n",
    "\n",
    "    elif IQ_quiz_duration_df.loc[i][\"In-person\"] == 1:\n",
    "        classroom_duration_list.append(IQ_quiz_duration_df.loc[i][\"Hours Start to Finish\"])\n",
    "\n",
    "remote_duration_ser = pd.Series(remote_duration_list)\n",
    "classroom_duration_ser = pd.Series(classroom_duration_list)\n",
    "\n",
    "print(\"Remote Duration n:\", len(remote_duration_ser))\n",
    "print(\"Classroom Duration n:\", len(classroom_duration_ser))"
   ]
  },
  {
   "cell_type": "markdown",
   "metadata": {},
   "source": [
    "### 1. Identify the Null and Alternative Hypothesis\n",
    "\n",
    "$H_o$ = $\\mu_{remote}$ <= $\\mu_{classroom}$  \n",
    "$H_1$ = $\\mu_{remote}$ > $\\mu_{classroom}$  \n",
    "$\\mu$ = average quiz duration per student (in hours)\n",
    "\n",
    "### 2. Select Level of Significance\n",
    "\n",
    "$\\alpha$ = 0.005\n",
    "\n",
    "### 3. Select Appropriate Test Statistic\n",
    "\n",
    "T-Statistic for Two-Sample Independent Test of Means:\n",
    "$$t = \\frac{\\overline{X_1} - \\overline{X_2}}{\\sqrt{s^2_p(\\frac{1}{n_1} + \\frac{1}{n_2})}}$$\n",
    "\n",
    "Pooled Variance:\n",
    "$$s^2_p = \\frac{(n_1 - 1)s_1^2 + (n_2 - 1)s_2^2}{n_1 + n_2 - 2}$$\n",
    "\n",
    "Degrees of Freedom:\n",
    "$$df = n_1 + n_2 - 1$$\n",
    "\n",
    "T-Critical @ $\\alpha = 0.005$ and $df = 92$\n",
    "$$t_{critical} = 2.6303$$"
   ]
  },
  {
   "cell_type": "code",
   "execution_count": 9,
   "metadata": {},
   "outputs": [
    {
     "name": "stdout",
     "output_type": "stream",
     "text": [
      "t: 4.12720417112991 pval: 4.029306042293943e-05\n"
     ]
    }
   ],
   "source": [
    "from scipy import stats\n",
    "\n",
    "t, pval = stats.ttest_ind(remote_duration_ser, classroom_duration_ser)\n",
    "pval /= 2\n",
    "print(\"t:\", t, \"pval:\", pval)"
   ]
  },
  {
   "cell_type": "markdown",
   "metadata": {},
   "source": [
    "### 4. Formulate a Decision Rule\n",
    "\n",
    "Using the t-distribution table with the level of significance (0.005) and the degrees of freedom (92), the t-critical value for this hypothesis test is 2.6303. The decision rule can be checked using the computed t-value or p-value. The following conditions can be drawn up using the initial hypotheses:\n",
    "\n",
    "1. If t-computed > 2.6303, reject $H_o$.\n",
    "1. If t-computed <= 2.6303, do not reject $H_o$.\n",
    "\n",
    "Python logic can demonstrate the above tests:"
   ]
  },
  {
   "cell_type": "code",
   "execution_count": 10,
   "metadata": {},
   "outputs": [
    {
     "name": "stdout",
     "output_type": "stream",
     "text": [
      "Reject the Null Hypothesis\n"
     ]
    }
   ],
   "source": [
    "if t > 2.6303:\n",
    "    print(\"Reject the Null Hypothesis\")\n",
    "elif t <= 2.6303:\n",
    "    print(\"Do Not Reject the Null Hypothesis\")"
   ]
  },
  {
   "cell_type": "markdown",
   "metadata": {},
   "source": [
    "### 5. Make a Decision\n",
    "\n",
    "At level 0.005 significance, the hypothesis that the mean quiz duration of remote students is less than or equal than the mean quiz duration of classroom students must be rejected. This provides evidence that supports the conclusion that the average quiz duration of remote students is greater than that of classroom students."
   ]
  },
  {
   "cell_type": "markdown",
   "metadata": {},
   "source": [
    "## Circuit Durations: Trial Comparisons\n",
    "\n",
    "The next hypothesis test compares the test results of physical therapy patients. Trial A was completed before therapy services were administered while Trial B was completed a week after therapy services. The following data samples will be tested to answer the question: Is the mean circuit duration for subjects at Trial B less than it was at Trial A? Such a conclusion would imply that the subject completed the circuit faster after therapy. A level of significance of 0.01 will be used.\n",
    "\n",
    "The following data will be parsed from the `\"circuit_trials.csv\"` file in Python below:"
   ]
  },
  {
   "cell_type": "code",
   "execution_count": 11,
   "metadata": {},
   "outputs": [
    {
     "name": "stdout",
     "output_type": "stream",
     "text": [
      "Trial A n: 27\n",
      "Trial B n: 27\n"
     ]
    }
   ],
   "source": [
    "import pandas as pd\n",
    "\n",
    "circuit_trials_df = pd.read_csv(\"circuit_trials.csv\")\n",
    "trial_a_list = []\n",
    "trial_b_list = []\n",
    "\n",
    "\n",
    "for i in range(len(circuit_trials_df)):\n",
    "\n",
    "    if circuit_trials_df.loc[i][\"Trial ID\"] == 'A':\n",
    "        trial_a_list.append(circuit_trials_df.loc[i][\"Duration\"])\n",
    "\n",
    "    elif circuit_trials_df.loc[i][\"Trial ID\"] == 'B':\n",
    "        trial_b_list.append(circuit_trials_df.loc[i][\"Duration\"])\n",
    "\n",
    "trial_a_ser = pd.Series(trial_a_list)\n",
    "trial_b_ser = pd.Series(trial_b_list)\n",
    "\n",
    "print(\"Trial A n:\", len(trial_a_ser))\n",
    "print(\"Trial B n:\", len(trial_b_ser))"
   ]
  },
  {
   "cell_type": "markdown",
   "metadata": {},
   "source": [
    "### 1. Identify the Null and Alternative Hypothesis\n",
    "\n",
    "$H_o$ = $\\mu_{B}$ >= $\\mu_{A}$  \n",
    "$H_1$ = $\\mu_{B}$ < $\\mu_{A}$  \n",
    "$\\mu$ = average circuit duration per person\n",
    "\n",
    "### 2. Select Level of Significance\n",
    "\n",
    "$\\alpha$ = 0.01\n",
    "\n",
    "### 3. Select Appropriate Test Statistic\n",
    "\n",
    "T-Statistic for Two-Sample Dependent Test of Means:\n",
    "$$t = \\frac{\\overline{d} - u_d}{s_{\\overline{d}}}$$\n",
    "\n",
    "Mean difference:\n",
    "$$\\overline{d} = \\frac{\\sum{d}}{n}$$\n",
    "\n",
    "Standard error of the mean difference:\n",
    "$$s_{\\overline{d}} = \\frac{s_d}{\\sqrt{n}}$$\n",
    "\n",
    "Standard deviation of differences:\n",
    "$$s_d = \\sqrt{\\frac{\\sum{(d - \\overline{d})^2}}{n - 1}}$$\n",
    "\n",
    "Degrees of Freedom:\n",
    "$$df = n - 1$$\n",
    "\n",
    "T-Critical @ $\\alpha = 0.01$ and $df = 26$\n",
    "$$t_{critical} = 2.479$$"
   ]
  },
  {
   "cell_type": "code",
   "execution_count": 12,
   "metadata": {},
   "outputs": [
    {
     "name": "stdout",
     "output_type": "stream",
     "text": [
      "t: 3.336688368513952 pval: 0.0012809826011843611\n"
     ]
    }
   ],
   "source": [
    "from scipy import stats\n",
    "\n",
    "t, pval = stats.ttest_rel(trial_a_ser, trial_b_ser)\n",
    "pval /= 2\n",
    "print(\"t:\", t, \"pval:\", pval)"
   ]
  },
  {
   "cell_type": "markdown",
   "metadata": {},
   "source": [
    "### 4. Formulate a Decision Rule\n",
    "\n",
    "Using the t-distribution table with the level of significance (0.01) and the degrees of freedom (26), the t-critical value for this hypothesis test is 2.479. The decision rule can be checked using the computed t-value or p-value. The following conditions can be drawn up using the initial hypotheses:\n",
    "\n",
    "1. If t-computed < 2.479, reject $H_o$.\n",
    "1. If t-computed >= 2.479, do not reject $H_o$.\n",
    "\n",
    "Python logic can demonstrate the above tests:"
   ]
  },
  {
   "cell_type": "code",
   "execution_count": 13,
   "metadata": {},
   "outputs": [
    {
     "name": "stdout",
     "output_type": "stream",
     "text": [
      "Do Not Reject Null Hypothesis\n"
     ]
    }
   ],
   "source": [
    "if t < 2.479:\n",
    "    print(\"Reject the Null Hypothesis\")\n",
    "elif t >= 2.479:\n",
    "    print(\"Do Not Reject Null Hypothesis\")"
   ]
  },
  {
   "cell_type": "markdown",
   "metadata": {},
   "source": [
    "### 5. Make a Decision\n",
    "\n",
    "Given a 0.01 level of significance, the hypothesis that the average duration of a patient's circuit increased in time or stayed the same can be rejected. This means that there is evidence to support the conclusion that physical therapy improved the circuit scores of patients through time decrease."
   ]
  },
  {
   "cell_type": "markdown",
   "metadata": {},
   "source": [
    "## Gonzaga University Website Daily Visitors (2018-2022)\n",
    "\n",
    "Gonzaga University gets many daily visitors on their website throughout the year. Given their reptuation as both a university and popularly, high-ranked basketball team, there are multiple times in the year where the website may receive above average spikes in visitors. Potential spikes could occur when:\n",
    "\n",
    "* Fall Admission time (August/September)\n",
    "* March Madness/NCAA Basketball Tournament (March)\n",
    "\n",
    "Another thing to note is that admissions visits are probably done by returning visitors who have already visited the website before. Likewise, new visitors probably appear the most at March Madness as they inquire about the top-seeded school.\n",
    "\n",
    "### Visualize the Data\n",
    "\n",
    "In order to get a better understanding if whether or not this is true, a histogram could help illustrate the spikes in the dataset using `matplotlib` and `pandas`."
   ]
  },
  {
   "cell_type": "code",
   "execution_count": 14,
   "metadata": {},
   "outputs": [
    {
     "data": {
      "image/png": "[encoded data removed]",
      "text/plain": [
       "<Figure size 432x288 with 1 Axes>"
      ]
     },
     "metadata": {
      "needs_background": "light"
     },
     "output_type": "display_data"
    },
    {
     "data": {
      "image/png": "[encoded data removed]",
      "text/plain": [
       "<Figure size 432x288 with 1 Axes>"
      ]
     },
     "metadata": {
      "needs_background": "light"
     },
     "output_type": "display_data"
    }
   ],
   "source": [
    "import pandas as pd\n",
    "import matplotlib.pyplot as plt\n",
    "\n",
    "website_visitors_df = pd.read_csv(\"GU_website_daily_visitors_2018-2022.csv\")\n",
    "\n",
    "# Clean the data to visualize the number of visitors per month\n",
    "date_ser = pd.Series(website_visitors_df[\"Date\"])\n",
    "month_dict = {\"-01-\": \"January\", \"-02-\": \"February\", \"-03-\": \"March\", \"-04-\": \"April\", \n",
    "              \"-05-\": \"May\", \"-06-\": \"June\", \"-07-\": \"July\", \"-08-\": \"August\", \"-09-\": \"September\", \n",
    "              \"-10-\": \"October\", \"-11-\": \"November\", \"-12-\": \"December\"}\n",
    "\n",
    "for i in range(len(date_ser)):\n",
    "    for j in month_dict.keys():\n",
    "        if j in date_ser[i]:\n",
    "            date_ser[i] = month_dict[j]\n",
    "\n",
    "bar_chart_df = website_visitors_df.copy()\n",
    "bar_chart_df[\"Date\"] = date_ser\n",
    "\n",
    "# Visualize New Visitor totals during the year of 2018\n",
    "date_2018_list = []\n",
    "new_visitor_2018_list = []\n",
    "\n",
    "for i in range(0, 364):\n",
    "    date_2018_list.append(bar_chart_df.loc[i][\"Date\"])\n",
    "    new_visitor_2018_list.append(bar_chart_df.loc[i][\"New Visitor\"])\n",
    "\n",
    "plt.figure()\n",
    "plt.bar(date_2018_list, new_visitor_2018_list, color=\"green\")\n",
    "plt.title(\"New Visitor Totals on GU Website Per Month (2018)\")\n",
    "plt.ylabel(\"Number of New Visitors\")\n",
    "plt.xlabel(\"Month\")\n",
    "plt.xticks(rotation=25, ha=\"right\")\n",
    "plt.show()\n",
    "\n",
    "# Visualize New Visitor totals during the year of 2019\n",
    "date_2019_list = []\n",
    "new_visitor_2019_list = []\n",
    "\n",
    "for i in range(365, 729):\n",
    "    date_2019_list.append(bar_chart_df.loc[i][\"Date\"])\n",
    "    new_visitor_2019_list.append(bar_chart_df.loc[i][\"New Visitor\"])\n",
    "\n",
    "plt.figure()\n",
    "plt.bar(date_2019_list, new_visitor_2019_list, color=\"purple\")\n",
    "plt.title(\"New Visitor Totals on GU Website Per Month (2019)\")\n",
    "plt.ylabel(\"Number of New Visitors\")\n",
    "plt.xlabel(\"Month\")\n",
    "plt.xticks(rotation=25, ha=\"right\")\n",
    "plt.show()"
   ]
  },
  {
   "cell_type": "markdown",
   "metadata": {},
   "source": [
    "It is apparent from this basic bar chart that there is a significant increase in new visitors during the month of March, throughout different years. In order to provide statistical evidence to support this inference, a hypothesis test must be completed."
   ]
  },
  {
   "cell_type": "markdown",
   "metadata": {},
   "source": [
    "### Hypothesis Testing: March v. Other Months\n",
    "\n",
    "Now that the histogram has revealed a little more about how the visits increase and decrease throughout the year, it is time to ask the question: Do new visitors appear on average more during the month of March compared to other months? A level of 0.025 signifcance will be used for this one-tailed, two independent sample hypothesis test.\n",
    "\n",
    "Before the hypothesis test can be carried out, daily visitors in March and the other months must be stored in two separate datasets."
   ]
  },
  {
   "cell_type": "code",
   "execution_count": 18,
   "metadata": {},
   "outputs": [
    {
     "name": "stdout",
     "output_type": "stream",
     "text": [
      "March New Visitor n: 147\n",
      "Other Month New Visitor n: 1396\n"
     ]
    }
   ],
   "source": [
    "import pandas as pd\n",
    "\n",
    "website_visitors_df = pd.read_csv(\"GU_website_daily_visitors_2018-2022.csv\")\n",
    "\n",
    "march_visitors_list = []\n",
    "other_visitors_list = []\n",
    "\n",
    "for i in range(len(website_visitors_df)):\n",
    "\n",
    "    if \"-03-\" in website_visitors_df.loc[i][\"Date\"]:\n",
    "        march_visitors_list.append(website_visitors_df.loc[i][\"New Visitor\"])\n",
    "    \n",
    "    else:\n",
    "        other_visitors_list.append(website_visitors_df.loc[i][\"New Visitor\"])\n",
    "\n",
    "march_visitors_ser = pd.Series(march_visitors_list)\n",
    "other_visitors_ser = pd.Series(other_visitors_list)\n",
    "\n",
    "print(\"March New Visitor n:\", len(march_visitors_ser))\n",
    "print(\"Other Month New Visitor n:\", len(other_visitors_ser))"
   ]
  },
  {
   "cell_type": "markdown",
   "metadata": {},
   "source": [
    "#### 1. Identify the Null and Alternative Hypothesis\n",
    "\n",
    "$H_o$ = $\\mu_{March}$ <= $\\mu_{Other}$  \n",
    "$H_1$ = $\\mu_{March}$ > $\\mu_{Other}$  \n",
    "$\\mu$ = average daily new visitor count on GU website\n",
    "\n",
    "#### 2. Select Level of Significance\n",
    "\n",
    "$\\alpha$ = 0.025\n",
    "\n",
    "#### 3. Select Appropriate Test Statistic\n",
    "\n",
    "T-Statistic for Two-Sample Independent Test of Means:\n",
    "$$t = \\frac{\\overline{X_1} - \\overline{X_2}}{\\sqrt{s^2_p(\\frac{1}{n_1} + \\frac{1}{n_2})}}$$\n",
    "\n",
    "Pooled Variance:\n",
    "$$s^2_p = \\frac{(n_1 - 1)s_1^2 + (n_2 - 1)s_2^2}{n_1 + n_2 - 2}$$\n",
    "\n",
    "Degrees of Freedom:\n",
    "$$df = n_1 + n_2 - 1$$\n",
    "\n",
    "T-Critical @ $\\alpha = 0.025$ and $df = 1541$\n",
    "$$t_{critical} = 1.9615$$"
   ]
  },
  {
   "cell_type": "code",
   "execution_count": 19,
   "metadata": {},
   "outputs": [
    {
     "name": "stdout",
     "output_type": "stream",
     "text": [
      "t: 8.54400625571796 pval: 1.5336684468397208e-17\n"
     ]
    }
   ],
   "source": [
    "from scipy import stats\n",
    "\n",
    "t, pval = stats.ttest_ind(march_visitors_ser, other_visitors_ser)\n",
    "pval /= 2\n",
    "print(\"t:\", t, \"pval:\", pval)"
   ]
  },
  {
   "cell_type": "markdown",
   "metadata": {},
   "source": [
    "#### 4. Formulate a Decision Rule\n",
    "\n",
    "Using the t-distribution table with the level of significance (0.025) and the degrees of freedom (1541), the t-critical value for this hypothesis test is 1.9615. The decision rule can be checked using the computed t-value or p-value. The following conditions can be drawn up using the initial hypotheses:\n",
    "\n",
    "1. If t-computed > 1.9615, reject $H_o$.\n",
    "1. If t-computed <= 1.9615, do not reject $H_o$.\n",
    "\n",
    "Python logic can demonstrate the above tests:"
   ]
  },
  {
   "cell_type": "code",
   "execution_count": 20,
   "metadata": {},
   "outputs": [
    {
     "name": "stdout",
     "output_type": "stream",
     "text": [
      "Reject the Null Hypothesis\n"
     ]
    }
   ],
   "source": [
    "if t > 1.9615: \n",
    "    print(\"Reject the Null Hypothesis\")\n",
    "    \n",
    "elif t <= 1.9615:\n",
    "    print(\"Do Not Reject Null Hypothesis\")"
   ]
  },
  {
   "cell_type": "markdown",
   "metadata": {},
   "source": [
    "#### 5. Make a Decision\n",
    "\n",
    "Given a level of significance of 0.025, the hypothesis that the average daily new visitors on Gonzaga's website is less than or equal in the month of March compared to other months can be rejected. This means that there is evidence that supports a spike in new visitors during the month of March compared to other months.\n",
    "\n",
    "### Conclusion\n",
    "\n",
    "Given this hypothesis testing, it is apparent that there is a spike in new visitors during the month of March, as predicted. Likewise, hypothesis tests such as this one can be applied to test other theories or inferences as to why Gonzaga sees increased viewership during certain months. Could Fall admissions play a similar role in increasing daily visitors during the months of August and September? If so, how does this increase compare to that of the month of March? Moreover, how do the returning visitors and new visitors split in these spikes of visitors? This hypothesis test that was conducted only scratches the surface of the immense possibilities that can be questioned from this large dataset."
   ]
  }
 ],
 "metadata": {
  "interpreter": {
   "hash": "10a6e54dcf7cd4a6e4c60a02b2c0aedf793edece3f95e71af56e4832a6f99a52"
  },
  "kernelspec": {
   "display_name": "Python 3.9.7 ('base')",
   "language": "python",
   "name": "python3"
  },
  "language_info": {
   "codemirror_mode": {
    "name": "ipython",
    "version": 3
   },
   "file_extension": ".py",
   "mimetype": "text/x-python",
   "name": "python",
   "nbconvert_exporter": "python",
   "pygments_lexer": "ipython3",
   "version": "3.9.7"
  },
  "orig_nbformat": 4
 },
 "nbformat": 4,
 "nbformat_minor": 2
}
