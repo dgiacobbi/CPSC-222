{
 "cells": [
  {
   "cell_type": "markdown",
   "metadata": {},
   "source": [
    "David Giacobbi  \n",
    "Class: CPSC 222, Spring 2022  \n",
    "Data Assignment #6  \n",
    "4/12/22  \n",
    "\n",
    "# DA6: Stats and Hypothesis Testing\n",
    "\n",
    "## Introduction\n",
    "\n",
    "The following data used for the statistic and hypothesis testing comes from a study done on a Computer Science II (CPSC 122) course. The data tracks the number of GitHub commits made on programming projects by students in Sections 01 and 02 of the course. The series below hold these numbers for each of the students in lists `s1` and `s2`. Section 01 was the control group while Section 02 was the experimental group that used gamification as an incentive to complete assignments early.\n"
   ]
  },
  {
   "cell_type": "code",
   "execution_count": 20,
   "metadata": {},
   "outputs": [],
   "source": [
    "import pandas as pd\n",
    "\n",
    "s1_list = [4, 44, 21, 45, 3, 43, 19, 36, 68, 63, 24, 39, 42, 45, 25, 20, 24, 31, 2, 25, 30, 31, 24, 16, 44]\n",
    "s2_list = [10, 22, 40, 58, 49, 64, 26, 57, 139, 49, 41, 66, 12, 40, 20, 67, 106, 4, 46, 4, 34, 12, 48, 11, 62]\n",
    "\n",
    "s1 = pd.Series(s1_list)\n",
    "s2 = pd.Series(s2_list)"
   ]
  },
  {
   "cell_type": "markdown",
   "metadata": {},
   "source": [
    "## Statistical Computation\n",
    "\n",
    "Now that the GitHub commit data has been uploaded into Python lists, it is now ready to be analyzed. In order to perform an extensive analysis on the comparison between the control and experimental group, the following calculations must be completed:\n",
    "\n",
    "1. S2 Mid-Value\n",
    "1. S2 Mean\n",
    "1. S2 Median\n",
    "1. S2 Mode\n",
    "1. S2 Range\n",
    "1. S2 Quartiles\n",
    "1. S2 Variance\n",
    "1. S2 Standard Deviation\n",
    "\n",
    "Each calculation will include a brief summary of the meaning of the analysis as well as the formula.\n",
    "\n",
    "### Mid-Value\n",
    "\n",
    "The mid-value of a dataset is a central tendency measure, which is a specific representation of the values found in the middle of the data distribution. It can be defined as:\n",
    "\n",
    "$$\\frac{min + max}{2}$$"
   ]
  },
  {
   "cell_type": "code",
   "execution_count": 21,
   "metadata": {},
   "outputs": [
    {
     "name": "stdout",
     "output_type": "stream",
     "text": [
      "S2 Mid-Value: 71.5\n"
     ]
    }
   ],
   "source": [
    "s2_min = s2.min()\n",
    "s2_max = s2.max()\n",
    "\n",
    "s2_mid_value = (s2_min + s2_max) / 2\n",
    "print(\"S2 Mid-Value:\", s2_mid_value)"
   ]
  },
  {
   "cell_type": "markdown",
   "metadata": {},
   "source": [
    "### Mean\n",
    "\n",
    "The population mean is another central tendency measure that determines the average value of the dataset. It is important to note that outliers can heavily affect this number. It is defined as:\n",
    "\n",
    "$$\\mu = \\frac{\\sum X}{n}$$\n",
    "\n",
    "$X$ = values in the data set  \n",
    "$n$ = number of values in dataset"
   ]
  },
  {
   "cell_type": "code",
   "execution_count": 22,
   "metadata": {},
   "outputs": [
    {
     "name": "stdout",
     "output_type": "stream",
     "text": [
      "S2 Mean: 43.48\n"
     ]
    }
   ],
   "source": [
    "s2_mean = s2.mean()\n",
    "print(\"S2 Mean:\", s2_mean)"
   ]
  },
  {
   "cell_type": "markdown",
   "metadata": {},
   "source": [
    "### Median\n",
    "\n",
    "The median is another central tendency measure that finds the value of the direct middle of a sorted dataset. In cases where there is two middle values, the midpoint of these two numbers is considered the median."
   ]
  },
  {
   "cell_type": "code",
   "execution_count": 23,
   "metadata": {},
   "outputs": [
    {
     "name": "stdout",
     "output_type": "stream",
     "text": [
      "S2 Median: 41.0\n"
     ]
    }
   ],
   "source": [
    "s2_median = s2.median()\n",
    "print(\"S2 Median:\", s2_median)"
   ]
  },
  {
   "cell_type": "markdown",
   "metadata": {},
   "source": [
    "### Mode\n",
    "\n",
    "The mode of the dataset is the value that appears/repeats the most compared to the other values. There can be multiple modes if there is more than one value that share the same frequency of appearance."
   ]
  },
  {
   "cell_type": "code",
   "execution_count": 24,
   "metadata": {},
   "outputs": [
    {
     "name": "stdout",
     "output_type": "stream",
     "text": [
      "S2 Mode:\n",
      "0     4\n",
      "1    12\n",
      "2    40\n",
      "3    49\n",
      "dtype: int64\n"
     ]
    }
   ],
   "source": [
    "s2_mode = s2.mode()\n",
    "print(\"S2 Mode:\")\n",
    "print(s2_mode)"
   ]
  },
  {
   "cell_type": "markdown",
   "metadata": {},
   "source": [
    "In this dataset, Python has determined that there are multiple modes in `s2`. The way to interpret the columns is:\n",
    "* Column 1: each instance of a mode\n",
    "* Column 2: the value of each unique mode\n",
    "\n",
    "### Range\n",
    "\n",
    "The range is the value in the dataset that is the difference between the maximum and minimum value. This is also a value that is heavily influenced by the outliers. It is defined as:\n",
    "$$max - min$$"
   ]
  },
  {
   "cell_type": "code",
   "execution_count": 25,
   "metadata": {},
   "outputs": [
    {
     "name": "stdout",
     "output_type": "stream",
     "text": [
      "Range: 135\n"
     ]
    }
   ],
   "source": [
    "s2_range = s2.max() - s2.min()\n",
    "print(\"Range:\", s2_range)"
   ]
  },
  {
   "cell_type": "markdown",
   "metadata": {},
   "source": [
    "### Quartiles\n",
    "\n",
    "Quartiles are the slices of data that result from equally dividing the data set into four different pieces, using 3 data points as the dividers."
   ]
  },
  {
   "cell_type": "code",
   "execution_count": 26,
   "metadata": {},
   "outputs": [
    {
     "name": "stdout",
     "output_type": "stream",
     "text": [
      "0.25    20.0\n",
      "0.50    41.0\n",
      "0.75    58.0\n",
      "dtype: float64\n"
     ]
    }
   ],
   "source": [
    "s2_sorted = s2.sort_values()\n",
    "s2_quartiles = s2_sorted.quantile([0.25, 0.5, 0.75])\n",
    "print(s2_quartiles)"
   ]
  },
  {
   "cell_type": "markdown",
   "metadata": {},
   "source": [
    "### Sample Variance\n",
    "\n",
    "The variance calculation is the value of how far the dataset spreads out from the mean. The higher the variance, the dataset has a larger spread and vice versa. It is depicted as:\n",
    "$$s^2 = \\frac{\\sum (x_i - \\overline{x})}{n - 1}$$\n",
    "\n",
    "$s^2$ = sample variance  \n",
    "$x_i$ = one instance from the dataset  \n",
    "$\\overline{x}$ = mean of dataset  \n",
    "$n$ = number of values in dataset  "
   ]
  },
  {
   "cell_type": "code",
   "execution_count": 27,
   "metadata": {},
   "outputs": [
    {
     "name": "stdout",
     "output_type": "stream",
     "text": [
      "Variance: 1002.18\n"
     ]
    }
   ],
   "source": [
    "s2_var = s2.var()\n",
    "print(\"Variance:\", round(s2_var, 2))"
   ]
  },
  {
   "cell_type": "markdown",
   "metadata": {},
   "source": [
    "### Sample Standard Deviation\n",
    "\n",
    "Standard deviation is simply the square root of the variance. It has the same units of the mean and is a measure of the spread of data.\n",
    "\n",
    "$$s = \\sqrt{\\frac{\\sum (x - \\overline{x})^2}{n - 1}}$$\n",
    "\n",
    "$s$ = sample standard deviation \n",
    "$x$ = one instance from the dataset  \n",
    "$\\overline{x}$ = sample mean of dataset  \n",
    "$n$ = number of values in dataset  "
   ]
  },
  {
   "cell_type": "code",
   "execution_count": 28,
   "metadata": {},
   "outputs": [
    {
     "name": "stdout",
     "output_type": "stream",
     "text": [
      "Standard Deviation: 31.66\n"
     ]
    }
   ],
   "source": [
    "s2_std = s2.std()\n",
    "print(\"Standard Deviation:\", round(s2_std, 2))"
   ]
  },
  {
   "cell_type": "markdown",
   "metadata": {},
   "source": [
    "## Confidence Intervals and T-Testing\n",
    "\n",
    "Confidence intervals and t-tests are essential aspects of hypothesis testing in statistics. Such numbers are additional computations that can help cross-analyze experimental data with control data and general hypotheses. The following will be calculated below:\n",
    "\n",
    "1. S1 95% Confidence Interval for Population Mean\n",
    "1. S2 95% Confidence Interval for Population Mean\n",
    "1. S2 One-Sample, One-Tailed T-Test of Population Mean\n",
    "1. S1 and S2 Two-Sample, One-Tailed T-Test of Population Means\n",
    "\n",
    "### S1 and S2 95% Confidence Interval for Population Mean\n",
    "\n",
    "The confidence interval is the value range that can be % confident confirmed to lie within a certain population parameter. To calculate the confidence interval for this dataset, z-distribution will be used since it is the interval for population mean\n",
    "\n",
    "$$CI = \\overline{X} \\pm t\\frac{s}{\\sqrt{n}}$$\n",
    "\n",
    "$CI$ = confidence interval  \n",
    "$\\overline{X}$ = sample mean  \n",
    "$t$ = t-distribution value  \n",
    "$s$ = sample standard deviation    \n",
    "$n$ = number of values in dataset  \n",
    "\n",
    "The plus-minus part of this formula takes into account the margin of error for the interval. Using a t-distribution table and the degrees of freedom, the t-value can be found. The formula for degrees of freedom is:\n",
    "\n",
    "$$df = n - 1$$\n",
    "\n",
    "According to the t-table, t will equal 2.064 in this confidence interval.\n",
    "\n",
    "#### Manual Calculations\n",
    "\n",
    "\n",
    "S1 Margin of Error = $2.064 * \\frac{16.63}{\\sqrt{25}}$ = 6.864864  \n",
    "S1 Confidence Interval: (30.72 - 6.86, 30.72 + 6.86) = (23.86, 37.58)  \n",
    "\n",
    "S2 Margin of Error = $2.064 * \\frac{31.66}{\\sqrt{25}}$ = 13.069248  \n",
    "S2 Confidence Interval: (43.48 - 13.07, 43.48 + 13.07) = (30.41, 56.55)  "
   ]
  },
  {
   "cell_type": "code",
   "execution_count": 29,
   "metadata": {},
   "outputs": [
    {
     "name": "stdout",
     "output_type": "stream",
     "text": [
      "S1 Margin of Error: 6.865729840767114\n",
      "S1 Confidence Interval: (23.854270159232886, 37.585729840767115)\n",
      "\n",
      "S2 Margin of Error: 13.068081433722398\n",
      "S2 Confidence Interval: (30.4119185662776, 56.548081433722395)\n"
     ]
    }
   ],
   "source": [
    "import numpy as np\n",
    "\n",
    "# S1 Confidence Interval Calcluations\n",
    "s1_xbar = s1.mean()\n",
    "s1_std = s1.std()\n",
    "s1_n = len(s1)\n",
    "\n",
    "margin_of_error = 2.064 * (s1_std / np.sqrt(s1_n))\n",
    "print(\"S1 Margin of Error:\", margin_of_error)\n",
    "\n",
    "s1_conf_int = (s1_xbar - margin_of_error, s1_xbar + margin_of_error)\n",
    "print(\"S1 Confidence Interval:\", s1_conf_int)\n",
    "print()\n",
    "\n",
    "# S2 Confidence Interval Calculations\n",
    "s2_xbar = s2.mean()\n",
    "s2_std = s2.std()\n",
    "s2_n = len(s2)\n",
    "\n",
    "margin_of_error = 2.064 * (s2_std / np.sqrt(s2_n))\n",
    "print(\"S2 Margin of Error:\", margin_of_error)\n",
    "\n",
    "s2_conf_int = (s2_xbar - margin_of_error, s2_xbar + margin_of_error)\n",
    "print(\"S2 Confidence Interval:\", s2_conf_int)\n"
   ]
  },
  {
   "cell_type": "markdown",
   "metadata": {},
   "source": [
    "With this data, the confidence intervals can be visualized using `matplotlib.pyplot`. Using this visualization tool, the intervals can be compared to each other."
   ]
  },
  {
   "cell_type": "code",
   "execution_count": 30,
   "metadata": {},
   "outputs": [
    {
     "data": {
      "image/png": "[encoded data removed]",
      "text/plain": [
       "<Figure size 432x288 with 1 Axes>"
      ]
     },
     "metadata": {
      "needs_background": "light"
     },
     "output_type": "display_data"
    }
   ],
   "source": [
    "import matplotlib.pyplot as plt\n",
    "\n",
    "# S1 depiction\n",
    "plt.plot([1], [s1_xbar], marker='o', color=\"purple\")\n",
    "plt.plot([1,1], s1_conf_int, color=\"purple\")\n",
    "\n",
    "# S2 depiction\n",
    "plt.plot([2], [s2_xbar], marker='o', color=\"green\")\n",
    "plt.plot([2,2], s2_conf_int, color=\"green\")\n",
    "\n",
    "plt.title(\"S1 v. S2 95% Confidence Intervals\")\n",
    "plt.ylabel(\"GitHub Commits\")\n",
    "plt.xticks([1, 2], [\"S1 (n=25)\", \"S2 (n=25)\"])\n",
    "plt.xlim([0.5, 2.5])\n",
    "\n",
    "plt.show()"
   ]
  },
  {
   "cell_type": "markdown",
   "metadata": {},
   "source": [
    "### S2 One-Sample, One-Tailed T-Test of Population Mean\n",
    "\n",
    "The one-sample, one-tailed t-test will be used to test the following hypothesis: Did the S2 students commit more than 28 times on average? For this test, a level of significance of 0.025 will be used. Also the population mean for this case will equal 28.\n",
    "\n",
    "\n",
    "#### 1. Identify the Null and Alternative Hypotheses  \n",
    "$H_o$: $\\mu$ <= 28 commits  \n",
    "$H_1$: $\\mu$ > 28 commits  \n",
    "$\\mu$ = average commits by S2 students  \n",
    "\n",
    "#### 2. Select Level of Significance\n",
    "$\\alpha$ = 0.025\n",
    "\n",
    "#### 3. Select the Appropriate Test Statistic\n",
    "The following t-test will be used to determine whether or not to reject the null hypothesis.\n",
    "\n",
    "$$t = \\frac{\\overline{x} - \\mu}{s / \\sqrt{n}}$$\n",
    "\n",
    "$\\overline{X}$ = sample mean  \n",
    "$\\mu$ = population mean  \n",
    "$s$ = sample standard deviation  \n",
    "$n$ = number of values in the dataset  \n",
    "\n",
    "##### Manual Calculations\n",
    "\n",
    "$t = \\frac{43.48 - 28}{31.66 / \\sqrt{25}}$ = 2.444725"
   ]
  },
  {
   "cell_type": "code",
   "execution_count": 31,
   "metadata": {},
   "outputs": [
    {
     "name": "stdout",
     "output_type": "stream",
     "text": [
      "t: 2.444943441931012\n"
     ]
    }
   ],
   "source": [
    "s2_pop_mean = 28\n",
    "s2_xbar = s2.mean()\n",
    "s2_s = s2.std()\n",
    "s2_n = len(s2)\n",
    "\n",
    "s2_t = (s2_xbar - s2_pop_mean) / (s2_s / np.sqrt(s2_n))\n",
    "print(\"t:\", s2_t)"
   ]
  },
  {
   "cell_type": "markdown",
   "metadata": {},
   "source": [
    "#### 4. Formulate the Decision Rule\n",
    "\n",
    "Using the t-distribution table, a level of significance of 0.025, and a degree of freedom (n - 1) of 24, the t-critical value for this hypothesis test is 2.064. Using the t-critical value and knowledge of normal distributions, a decision rule can be drawn up to test the hypothesis. Since this test has only one tail, the decision rule only needs to check to the right tail of the distribution. Two decision rules result from this hypothesis test:\n",
    "\n",
    "1. If t-computed > 2.065, reject $H_o$\n",
    "1. If t-computed <= 2.065, do not reject $H_o$\n",
    "\n",
    "This can be tested using Python logic as shown below:"
   ]
  },
  {
   "cell_type": "code",
   "execution_count": 32,
   "metadata": {},
   "outputs": [
    {
     "name": "stdout",
     "output_type": "stream",
     "text": [
      "Reject Null Hypothesis\n"
     ]
    }
   ],
   "source": [
    "if s2_t > 2.065:\n",
    "    print(\"Reject Null Hypothesis\")\n",
    "elif s2_t <= 2.065:\n",
    "    print(\"Do Not Reject Null Hypothesis\")"
   ]
  },
  {
   "cell_type": "markdown",
   "metadata": {},
   "source": [
    "#### 5. Make a Decision\n",
    "Based on the decision made from the decision rule, a general conclusion can be made from the hypothesis test. At a level of 0.025 significance, students in Section 2 of CPSC122 made more than 28 commits on average. This makes sense considering the fact that the 95% Confidence Interval for Section 2 is (30.4119185662776, 56.548081433722395). "
   ]
  },
  {
   "cell_type": "markdown",
   "metadata": {},
   "source": [
    "### S1 and S2 Two-Sample, One-Tailed Test of the Population Means\n",
    "\n",
    "The two-sample, one-tailed hypothesis test will be used to answer the following question: Did the S2 students commit more on average than the S1 students? A level of significance of 0.01 will be used.\n",
    "\n",
    "#### 1. Identify Null and Alternative Hypotheses\n",
    "\n",
    "$H_o$: $\\mu_{S2}$ <= $\\mu_{S1}$ commits  \n",
    "$H_1$: $\\mu_{S2}$ > $\\mu_{S1}$ commits  \n",
    "$\\mu$ = average commits by students in each section  \n",
    "\n",
    "#### 2. Select Level of Significance\n",
    "$\\alpha$ = 0.01\n",
    "\n",
    "#### 3. Select the Appropriate Test Statistic\n",
    "The following t-test will be used to determine whether or not to reject the null hypothesis.\n",
    "\n",
    "T-Statistic Formula: \n",
    "$$t = \\frac{\\overline{X_1} - \\overline{X_2}}{\\sqrt{s^2_p(\\frac{1}{n_1} + \\frac{1}{n_2})}}$$\n",
    "\n",
    "Pooled Variance:\n",
    "$$s^2_p = \\frac{(n_1 - 1)s_1^2 + (n_2 - 1)s_2^2}{n_1 + n_2 - 2}$$\n",
    "\n",
    "##### Manual Calculations\n",
    "\n",
    "$s^2_p = \\frac{(25 - 1)25^2 + (25 - 1)25^2}{25 + 25 - 2}$ = $\\frac{30000}{48}$ = 625\n",
    "\n",
    "$t = \\frac{43.48 - 30.72}{\\sqrt{625(\\frac{1}{25} + \\frac{1}{25})}}$ = 1.8045365\n"
   ]
  },
  {
   "cell_type": "code",
   "execution_count": 34,
   "metadata": {},
   "outputs": [
    {
     "name": "stdout",
     "output_type": "stream",
     "text": [
      "t: 1.784098380137661 pval: 0.041383224909752096\n"
     ]
    }
   ],
   "source": [
    "from scipy import stats\n",
    "\n",
    "t, pval = stats.ttest_ind(s2, s1, equal_var=False)\n",
    "pval /= 2\n",
    "print(\"t:\", t, \"pval:\", pval)"
   ]
  },
  {
   "cell_type": "markdown",
   "metadata": {},
   "source": [
    "#### 4. Formulate the Decision Rule\n",
    "\n",
    "Using the t-distribution table with the level of significance (0.01) and the degrees of freedom (24), the t-critical value for this hypothesis test is 2.492. The decision rule can be checked using the computed t-value or p-value. The following conditions can be drawn up using the initial hypotheses:\n",
    "\n",
    "1. If t-computed > 2.492, reject $H_o$.\n",
    "1. If t-computed <= 2.492, do not reject $H_o$.\n",
    "1. If p-value < 0.01, reject $H_o$.\n",
    "1. If p-value >= 0.01, do not reject $H_o$.\n",
    "\n",
    "Python logic can demonstrate the above tests:"
   ]
  },
  {
   "cell_type": "code",
   "execution_count": 36,
   "metadata": {},
   "outputs": [
    {
     "name": "stdout",
     "output_type": "stream",
     "text": [
      "Do Not Reject the Null Hypothesis\n",
      "Do Not Reject the Null Hypothesis\n"
     ]
    }
   ],
   "source": [
    "if t > 2.492:\n",
    "    print(\"Reject the Null Hypothesis\")\n",
    "elif t <= 2.492:\n",
    "    print(\"Do Not Reject the Null Hypothesis\")\n",
    "\n",
    "alpha = 0.01\n",
    "if pval < alpha:\n",
    "    print(\"Reject the Null Hypothesis\")\n",
    "else:\n",
    "    print(\"Do Not Reject the Null Hypothesis\")"
   ]
  },
  {
   "cell_type": "markdown",
   "metadata": {},
   "source": [
    "#### 5. Make a Decision\n",
    "\n",
    "From the decision rule, the null hypothesis that was formulated does not have sufficient evidence to be rejected at a level of significance of 0.01. This means that given this level of significance, Section 2 did not make more commits on average than Section 1 did in CPSC 122."
   ]
  }
 ],
 "metadata": {
  "interpreter": {
   "hash": "10a6e54dcf7cd4a6e4c60a02b2c0aedf793edece3f95e71af56e4832a6f99a52"
  },
  "kernelspec": {
   "display_name": "Python 3.9.7 ('base')",
   "language": "python",
   "name": "python3"
  },
  "language_info": {
   "codemirror_mode": {
    "name": "ipython",
    "version": 3
   },
   "file_extension": ".py",
   "mimetype": "text/x-python",
   "name": "python",
   "nbconvert_exporter": "python",
   "pygments_lexer": "ipython3",
   "version": "3.9.7"
  },
  "orig_nbformat": 4
 },
 "nbformat": 4,
 "nbformat_minor": 2
}
