{
 "cells": [
  {
   "cell_type": "markdown",
   "metadata": {},
   "source": [
    "# kNN Tracing Exercise\n",
    "\n",
    "In this first machine learning exercise, kNN tracing will be demonstrated, using the `family_car.csv` dataset. By determining the five closest neighbors of a test instance, the calculations will attempt to predict if the test instance is a family car or not.\n",
    "\n",
    "The test instance for this kNN tracing:\n",
    "* **Price:** 21000\n",
    "* **Engine Power:** 190\n",
    "* **Family Car:** ?\n",
    "\n",
    "## Normalize the Data\n",
    "\n",
    "First, the dataset needs to be uploaded into a dataframe. Afterwards, the data needs to be normalized so that all values are weighted evenly. This will be done with \"min-max\" normalization so that all values are between 0 and 1. The formula below does this:\n",
    "\n",
    "$$(x - min(xs)) / ((max(xs) - min(xs)) * 1.0)$$"
   ]
  },
  {
   "cell_type": "code",
   "execution_count": 50,
   "metadata": {},
   "outputs": [
    {
     "name": "stdout",
     "output_type": "stream",
     "text": [
      "Scaled Price: [0.0, 0.029411764705882353, 0.20588235294117646, 0.23529411764705882, 0.38235294117647056, 0.38235294117647056, 0.4411764705882353, 0.5294117647058824, 0.5882352941176471, 0.6470588235294118, 0.6764705882352942, 0.9411764705882353, 0.9705882352941176, 1.0] \n",
      "\n",
      "Scaled Engine Power: [0.8333333333333334, 0.1111111111111111, 0.2222222222222222, 0.6666666666666666, 0.5, 1.0, 0.7777777777777778, 0.5555555555555556, 0.6944444444444444, 1.0, 0.2777777777777778, 0.0, 0.4722222222222222, 0.6944444444444444] \n",
      "\n",
      "Test Instance Normalization: 0.4117647058823529, 0.16666666666666666\n"
     ]
    }
   ],
   "source": [
    "import pandas as pd\n",
    "\n",
    "car_df = pd.read_csv(\"family_car.csv\")\n",
    "\n",
    "X_train = car_df.drop([\"Family Car\"], axis=1)\n",
    "y_train = car_df[\"Family Car\"]\n",
    "\n",
    "price_scaled = []\n",
    "power_scaled = []\n",
    "\n",
    "for i in range(len(car_df[\"Price\"])):\n",
    "    max_min = car_df[\"Price\"].max() - car_df[\"Price\"].min()\n",
    "    x_scale = (car_df.loc[i][\"Price\"] - car_df[\"Price\"].min()) / (max_min * 1.0)\n",
    "    price_scaled.append(x_scale)\n",
    "\n",
    "for i in range(len(car_df[\"Engine Power\"])):\n",
    "    max_min = car_df[\"Engine Power\"].max() - car_df[\"Engine Power\"].min()\n",
    "    x_scale = (car_df.loc[i][\"Engine Power\"] - car_df[\"Engine Power\"].min()) / (max_min * 1.0)\n",
    "    power_scaled.append(x_scale)\n",
    "\n",
    "print(\"Scaled Price:\", price_scaled, \"\\n\")\n",
    "print(\"Scaled Engine Power:\", power_scaled, \"\\n\")\n",
    "\n",
    "test_scale_price = (21000 - car_df[\"Price\"].min()) / (car_df[\"Price\"].max() - car_df[\"Price\"].min() * 1.0)\n",
    "test_scale_power = (190 - car_df[\"Engine Power\"].min()) / (car_df[\"Engine Power\"].max() - car_df[\"Engine Power\"].min() * 1.0)\n",
    "\n",
    "print(\"Test Instance Normalization: \", test_scale_price, \", \", test_scale_power, sep=\"\")\n",
    "\n",
    "price_scaled_ser = pd.Series(price_scaled)\n",
    "power_scaled_ser = pd.Series(power_scaled)"
   ]
  },
  {
   "cell_type": "markdown",
   "metadata": {},
   "source": [
    "## Compute Distances Between Training Set and Test Instance\n",
    "\n",
    "The next step to identify the closest neighbors is to identify how far the test instance is from each instance in the training set. This is computed with the following equation:\n",
    "\n",
    "$$\\sqrt{(x_1 - x_0)^2 + (y_1 - y_0)^2}$$"
   ]
  },
  {
   "cell_type": "code",
   "execution_count": 51,
   "metadata": {},
   "outputs": [
    {
     "name": "stdout",
     "output_type": "stream",
     "text": [
      "0     0.783578\n",
      "1     0.386368\n",
      "2     0.213246\n",
      "3     0.530228\n",
      "4     0.334628\n",
      "5     0.833852\n",
      "6     0.611818\n",
      "7     0.406295\n",
      "8     0.556499\n",
      "9     0.865914\n",
      "10    0.287080\n",
      "11    0.555027\n",
      "12    0.636905\n",
      "13    0.790298\n",
      "dtype: float64\n"
     ]
    }
   ],
   "source": [
    "import numpy as np\n",
    "\n",
    "X_train[\"Price\"] = price_scaled_ser\n",
    "X_train[\"Engine Power\"] = power_scaled_ser\n",
    "\n",
    "distance_set = []\n",
    "\n",
    "for i in range(len(X_train[\"Price\"])):\n",
    "    x_diff = (test_scale_price - X_train.loc[i][\"Price\"]) ** 2\n",
    "    y_diff = (test_scale_power - X_train.loc[i][\"Engine Power\"]) ** 2\n",
    "    dist = np.sqrt(x_diff + y_diff)\n",
    "    distance_set.append(dist)\n",
    "\n",
    "distance_ser = pd.Series(distance_set)\n",
    "print(distance_ser)"
   ]
  },
  {
   "cell_type": "markdown",
   "metadata": {},
   "source": [
    "## Find Nearest Neighbors and Majority Vote the Class Label\n",
    "\n",
    "Now that the distance of each scaled instance from the scaled test instance has been found, the kNN nearest neighbors can be identified. For this exercise, a k of 5 will be used. To do this a list of the five nearest neighbor indicies will be created in order to determine the most frequent label of yes or no for the Family Car attribute. The code below details this:"
   ]
  },
  {
   "cell_type": "code",
   "execution_count": 52,
   "metadata": {},
   "outputs": [
    {
     "name": "stdout",
     "output_type": "stream",
     "text": [
      "Nearest Neighbors Indicies: [2, 10, 4, 1, 7]\n",
      "y_predicted: 0    no\n",
      "dtype: object\n"
     ]
    }
   ],
   "source": [
    "kNN_idx_list = []\n",
    "\n",
    "for i in range(5):\n",
    "    idx_min = distance_ser.idxmin()\n",
    "    kNN_idx_list.append(idx_min)\n",
    "    distance_ser.drop(idx_min, inplace=True)\n",
    "\n",
    "print(\"Nearest Neighbors Indicies:\", kNN_idx_list)\n",
    "\n",
    "kNN_idx_ser = pd.Series(kNN_idx_list)\n",
    "family_car_list = []\n",
    "\n",
    "for i in range(len(kNN_idx_list)):\n",
    "    curr_idx = kNN_idx_ser.loc[i]\n",
    "    kNN_family_car = y_train.loc[curr_idx]\n",
    "    family_car_list.append(kNN_family_car)\n",
    "\n",
    "family_car_ser = pd.Series(family_car_list)\n",
    "y_predicted = family_car_ser.mode()\n",
    "\n",
    "print(\"y_predicted:\", y_predicted)"
   ]
  },
  {
   "cell_type": "markdown",
   "metadata": {},
   "source": [
    "After finding the five nearest neighbors and completing majority voting using the mode, the kNN tracing has predicted that the test instance given is not a family car."
   ]
  }
 ],
 "metadata": {
  "interpreter": {
   "hash": "10a6e54dcf7cd4a6e4c60a02b2c0aedf793edece3f95e71af56e4832a6f99a52"
  },
  "kernelspec": {
   "display_name": "Python 3.9.7 ('base')",
   "language": "python",
   "name": "python3"
  },
  "language_info": {
   "codemirror_mode": {
    "name": "ipython",
    "version": 3
   },
   "file_extension": ".py",
   "mimetype": "text/x-python",
   "name": "python",
   "nbconvert_exporter": "python",
   "pygments_lexer": "ipython3",
   "version": "3.9.7"
  },
  "orig_nbformat": 4
 },
 "nbformat": 4,
 "nbformat_minor": 2
}
