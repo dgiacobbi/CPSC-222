{
 "cells": [
  {
   "cell_type": "markdown",
   "metadata": {},
   "source": [
    "David Giacobbi\n",
    "\n",
    "The chapter of Weapons of Math Destruction that I decided to read was Chapter 5 Civilian Casualties: Justice in the Age of Big Data. I found this chapter both fascinating and disappointing. It essentially explained how civilians have become the victims of machine learning technology. Though law enforcement had good intentions to limit crime with this software, the software predictions were often found centering around non-violent crimes. This, in turn, led to the imprisonment of many minority groups for minimal crimes. This was a tough situation because law enforcement felt the need to rely on software like this due to understaffed issues and increasing crime rates. Nonetheless, the faulty software took a snowball effect. As more non-violent crimes were logged in the system, officers were patrolled regularly in areas where lower class individuals were at risk of being arrested and detained for miniscule crimes.\n",
    "\n",
    "One of the things that really struck me about the chapter is how the constant data collection resulted in an endless cycle of injustice towards particular groups of lower class individuals. I found it really appalling that a learning software such as PredPol could have such a negative effect on society. As it was first described, I genuinely thought that there was no way a solely mapping software could be turned into a marginalizing software. Moreover, I thought that the point made about how big businesses avoid the deep analysis for fraud while others get arrested for smoking a joint convinced me that there is a truly deep issue within crime software.\n",
    "\n",
    "Given all the ethics I have learned in this class, I pledge the Hippocratic Oath. I think society itself loses morality when we cannot put each other above our own selfish gain. If physical things on this Earth are more important than humanity itself, then we are truly counting down the time to our own extinction. I think that do no harm is a very broad term; however, specifications to what types of harm could be helpful additions to the Hippocratic Oath.\n",
    "\n",
    "I think that this course is just the beginning of the type of preparation I need to become a morally honorable computer scientist. In a competitive field such as this one, money and power are dangerous objects that we must be aware of when we work. With this knowledge, I will be able to better identify WMDs in the world today, even when they do not intend to do harm. It is not always easy to choose the right choice over the successful choice. However, it is our duty as ethical people to use our skills for the good of others."
   ]
  }
 ],
 "metadata": {
  "language_info": {
   "name": "python"
  },
  "orig_nbformat": 4
 },
 "nbformat": 4,
 "nbformat_minor": 2
}
