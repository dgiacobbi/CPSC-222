{
 "cells": [
  {
   "cell_type": "markdown",
   "metadata": {},
   "source": [
    "# Google Trends Regression Exercise\n",
    "\n",
    "This next exercise will utilize the Google Trends program to display how linear regression works in a Python environment. For this practice exercise, search trends with a similar interest over time trend to \"Gonzaga University\" will be found to compare with this search phrase. Possible correlations to this trend line could include:\n",
    "\n",
    "* Jalen Suggs\n",
    "* Mark Few\n",
    "* Jesuit institutions\n",
    "* UCLA Basketball\n",
    "\n",
    "## Load the Data\n",
    "\n",
    "After deliberation, the phrase \"UCLA Basketball\" will be used to compare to \"Gonzaga University\". In order to analyze these regression trends, the data first needs to be uploaded to a `Pandas` dataframe. The code below carries out this task:"
   ]
  },
  {
   "cell_type": "code",
   "execution_count": 15,
   "metadata": {},
   "outputs": [
    {
     "name": "stdout",
     "output_type": "stream",
     "text": [
      "           Gonzaga University: (United States)  \\\n",
      "Week                                             \n",
      "2017-04-30                                   1   \n",
      "2017-05-07                                   1   \n",
      "2017-05-14                                   1   \n",
      "2017-05-21                                   1   \n",
      "2017-05-28                                   1   \n",
      "\n",
      "           UCLA Basketball: (United States)  \n",
      "Week                                         \n",
      "2017-04-30                                2  \n",
      "2017-05-07                                2  \n",
      "2017-05-14                                2  \n",
      "2017-05-21                                2  \n",
      "2017-05-28                                2  \n"
     ]
    }
   ],
   "source": [
    "import pandas as pd\n",
    "\n",
    "trends_df = pd.read_csv(\"google_trends.csv\", index_col=\"Week\")\n",
    "print(trends_df.head(5))"
   ]
  },
  {
   "cell_type": "markdown",
   "metadata": {},
   "source": [
    "## Clean the Data\n",
    "\n",
    "Before the regression chart can be plotted, the data needs to be checked for any missing values for cleaning. Additionally, in order for the data to be plotted correctly on the scatter plot, values in the two series need to be converted to numeric values. The code below prepares and cleans the data for regression:"
   ]
  },
  {
   "cell_type": "code",
   "execution_count": 16,
   "metadata": {},
   "outputs": [
    {
     "name": "stdout",
     "output_type": "stream",
     "text": [
      "Null value column 0 count: 0\n",
      "Null value column 1 count: 0\n"
     ]
    }
   ],
   "source": [
    "gonzaga_ser = trends_df[\"Gonzaga University: (United States)\"]\n",
    "ucla_ser = trends_df[\"UCLA Basketball: (United States)\"]\n",
    "\n",
    "gonzaga_ser.replace(['<1'], ['0'], inplace=True)\n",
    "ucla_ser.replace(['<1'], ['0'], inplace=True)\n",
    "\n",
    "gonzaga_ser = pd.to_numeric(gonzaga_ser)\n",
    "ucla_ser = pd.to_numeric(ucla_ser)\n",
    "\n",
    "for i in range(len(trends_df.columns)):\n",
    "    print(\"Null value column\", i, \"count:\", trends_df.iloc[i].isnull().sum())"
   ]
  },
  {
   "cell_type": "markdown",
   "metadata": {},
   "source": [
    "## Data Visualization\n",
    "\n",
    "Now that the data is completely prepared and cleaned, linear regression can now be depicted using a scatter plot. For this plot, the `matplotlib` library will be used. For the x values, the search popularity of \"UCLA Basketball\" will be used. For the y values, the search popularity of \"Gonzaga University\" will be used. Lastly, a line will be added to depict the linear regression."
   ]
  },
  {
   "cell_type": "code",
   "execution_count": 17,
   "metadata": {},
   "outputs": [
    {
     "data": {
      "image/png": "[encoded data removed]",
      "text/plain": [
       "<Figure size 432x288 with 1 Axes>"
      ]
     },
     "metadata": {
      "needs_background": "light"
     },
     "output_type": "display_data"
    },
    {
     "name": "stdout",
     "output_type": "stream",
     "text": [
      "Resulting Linear Equation: y = 0.4159x + -0.185\n",
      "Correlation Coefficient: 0.6686239897816004\n"
     ]
    }
   ],
   "source": [
    "import matplotlib.pyplot as plt\n",
    "\n",
    "from scipy import stats\n",
    "\n",
    "m, b, r, r_pval, std_err = stats.linregress(ucla_ser, gonzaga_ser)\n",
    "\n",
    "plt.figure()\n",
    "plt.scatter(ucla_ser, gonzaga_ser, color=\"orange\")\n",
    "plt.plot(ucla_ser, m*ucla_ser + b, color=\"red\")\n",
    "plt.title(\"Search Popularity Scores of Google Topics (2017-2022)\")\n",
    "plt.xlabel(\"UCLA Basketball\")\n",
    "plt.ylabel(\"Gonzaga University\")\n",
    "plt.tight_layout()\n",
    "plt.show()\n",
    "\n",
    "print(\"Resulting Linear Equation: y = \", round(m, 4), \"x\", \" + \", round(b, 4), sep=\"\")\n",
    "print(\"Correlation Coefficient:\", r)"
   ]
  },
  {
   "cell_type": "markdown",
   "metadata": {},
   "source": [
    "The two topics have surprisingly correlated relations, despite the seemingly no relation to them. A further look into the history over the past couple years would reveal the slowly developing rivalry between these two top-tier college basketball schools. Their trends were nearly identical, often having a spike during the NCAA Men's Basketball Tournament.\n",
    "\n",
    "Given the correlation coefficient, there is about a 67% linear relationship between the two topics."
   ]
  }
 ],
 "metadata": {
  "interpreter": {
   "hash": "10a6e54dcf7cd4a6e4c60a02b2c0aedf793edece3f95e71af56e4832a6f99a52"
  },
  "kernelspec": {
   "display_name": "Python 3.9.7 ('base')",
   "language": "python",
   "name": "python3"
  },
  "language_info": {
   "codemirror_mode": {
    "name": "ipython",
    "version": 3
   },
   "file_extension": ".py",
   "mimetype": "text/x-python",
   "name": "python",
   "nbconvert_exporter": "python",
   "pygments_lexer": "ipython3",
   "version": "3.9.7"
  },
  "orig_nbformat": 4
 },
 "nbformat": 4,
 "nbformat_minor": 2
}
